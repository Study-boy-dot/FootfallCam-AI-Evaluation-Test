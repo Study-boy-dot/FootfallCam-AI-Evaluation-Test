{
 "cells": [
  {
   "cell_type": "code",
   "execution_count": 4,
   "id": "77b2452a",
   "metadata": {},
   "outputs": [],
   "source": [
    "import cv2 as cv\n",
    "import numpy as np\n",
    "import matplotlib.pyplot as plt\n",
    "from tracker import *"
   ]
  },
  {
   "cell_type": "code",
   "execution_count": 2,
   "id": "6f387fcc",
   "metadata": {},
   "outputs": [],
   "source": [
    "def motionDetection():\n",
    "    cap = cv.VideoCapture('sample.mp4')\n",
    "    ret, frame1 = cap.read()\n",
    "    ret, frame2 = cap.read()\n",
    "    \n",
    "    tracker = EuclideanDistTracker()\n",
    "    \n",
    "    while cap.isOpened():\n",
    "        diff = cv.absdiff(frame1, frame2)\n",
    "        diff_gray = cv.cvtColor(diff, cv.COLOR_BGR2GRAY)\n",
    "        blur = cv.GaussianBlur(diff_gray, (5, 5), 0)\n",
    "        _, thresh = cv.threshold(blur, 20, 255, cv.THRESH_BINARY)\n",
    "        dilated = cv.dilate(thresh, None, iterations=3)\n",
    "        contours, _ = cv.findContours(dilated, cv.RETR_TREE, cv.CHAIN_APPROX_SIMPLE)\n",
    "        \n",
    "        for contour in contours:\n",
    "            (x, y, w, h) = cv.boundingRect(contour)\n",
    "            if cv.contourArea(contour) < 900:\n",
    "                continue\n",
    "            cv.rectangle(frame1, (x, y), (x+w, y+h), (0, 255, 0), 2)\n",
    "            cv.putText(frame1, \"Pedestrian {}\".format('Movement'), (10, 20), \n",
    "                       cv.FONT_HERSHEY_SIMPLEX, 1, (255, 0, 0), 3)\n",
    "            \n",
    "        cv.imshow('Video', frame1)\n",
    "        frame1 = frame2\n",
    "        ret, frame2 = cap.read()\n",
    "        \n",
    "        if cv.waitKey(50) == 27:\n",
    "            break\n",
    "            \n",
    "    cap.release()\n",
    "    cv.destroyAllWindows()"
   ]
  },
  {
   "cell_type": "code",
   "execution_count": 3,
   "id": "d4f1dbed",
   "metadata": {},
   "outputs": [],
   "source": [
    "motionDetection()"
   ]
  },
  {
   "cell_type": "code",
   "execution_count": 5,
   "id": "aacf1368",
   "metadata": {},
   "outputs": [],
   "source": [
    "cap = cv2.VideoCapture('sample.mp4')\n",
    "\n",
    "human_cascade = cv2.CascadeClassifier('haarcascade_fullbody.xml')"
   ]
  },
  {
   "cell_type": "code",
   "execution_count": 6,
   "id": "868ca6ba",
   "metadata": {},
   "outputs": [],
   "source": [
    "while(True):\n",
    "    # Capture frame-by-frame\n",
    "    ret, frame = cap.read()\n",
    "\n",
    "    # Our operations on the frame come here\n",
    "    gray = cv2.cvtColor(frame, cv2.COLOR_BGR2GRAY)\n",
    "    humans = human_cascade.detectMultiScale(gray, 1.9, 1)\n",
    "    \n",
    "    # Display the resulting frame\n",
    "    for (x,y,w,h) in humans:\n",
    "         cv2.rectangle(frame,(x,y),(x+w,y+h),(255,0,0),2)\n",
    "         \n",
    "         \n",
    "\n",
    "    cv2.imshow('frame',frame)\n",
    "    if cv2.waitKey(1) & 0xFF == ord('q'):\n",
    "        break\n",
    "\n",
    "# When everything done, release the capture\n",
    "cap.release()\n",
    "cv2.destroyAllWindows()"
   ]
  },
  {
   "cell_type": "code",
   "execution_count": null,
   "id": "4ba53dba",
   "metadata": {},
   "outputs": [],
   "source": []
  }
 ],
 "metadata": {
  "kernelspec": {
   "display_name": "Python 3 (ipykernel)",
   "language": "python",
   "name": "python3"
  },
  "language_info": {
   "codemirror_mode": {
    "name": "ipython",
    "version": 3
   },
   "file_extension": ".py",
   "mimetype": "text/x-python",
   "name": "python",
   "nbconvert_exporter": "python",
   "pygments_lexer": "ipython3",
   "version": "3.8.8"
  }
 },
 "nbformat": 4,
 "nbformat_minor": 5
}
